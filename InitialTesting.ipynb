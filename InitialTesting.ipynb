{
 "cells": [
  {
   "cell_type": "markdown",
   "id": "9534c607",
   "metadata": {},
   "source": [
    "Testing File: Will be used to test connections, test analytical utility functions, and anything else that could be useful"
   ]
  },
  {
   "cell_type": "code",
   "execution_count": null,
   "id": "d2f2e0f7",
   "metadata": {},
   "outputs": [],
   "source": []
  }
 ],
 "metadata": {
  "language_info": {
   "name": "python"
  }
 },
 "nbformat": 4,
 "nbformat_minor": 5
}
